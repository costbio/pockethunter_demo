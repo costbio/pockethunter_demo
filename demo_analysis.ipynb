{
 "cells": [
  {
   "cell_type": "code",
   "execution_count": null,
   "id": "3a721ee4",
   "metadata": {},
   "outputs": [],
   "source": [
    "import pandas as pd\n",
    "import matplotlib.pyplot as plt\n",
    "import seaborn as sns\n",
    "import re, glob, os, tqdm"
   ]
  },
  {
   "cell_type": "code",
   "execution_count": 86,
   "id": "bf1cfff9",
   "metadata": {},
   "outputs": [],
   "source": [
    "root_folder = \"/mnt/c/experiments/pocket_hunter/prioritization/2rku_A_protein/\""
   ]
  },
  {
   "cell_type": "code",
   "execution_count": 87,
   "id": "825fdf8d",
   "metadata": {},
   "outputs": [],
   "source": [
    "df_pockets = pd.read_csv(os.path.join(root_folder, \"2rku_A_prod_R3_fit_clusters_minprob0.1/pockets_clustered.csv\"))"
   ]
  },
  {
   "cell_type": "code",
   "execution_count": null,
   "id": "eb4be1b4",
   "metadata": {},
   "outputs": [],
   "source": [
    "df_pockets.head()"
   ]
  },
  {
   "cell_type": "code",
   "execution_count": 88,
   "id": "bacaa14e",
   "metadata": {},
   "outputs": [],
   "source": [
    "df_cluster_reps = pd.read_csv(os.path.join(root_folder, \"2rku_A_prod_R3_fit_clusters_minprob0.1\",\"cluster_representatives.csv\"))"
   ]
  },
  {
   "cell_type": "code",
   "execution_count": 89,
   "id": "ab68576e",
   "metadata": {},
   "outputs": [],
   "source": [
    "other_pdb_pockets = glob.glob(os.path.join(root_folder, \"other_plk1_pdb\", \"*\", \"*\", \"structure.pdb_predictions.csv\"))"
   ]
  },
  {
   "cell_type": "code",
   "execution_count": 90,
   "id": "524e4d7a",
   "metadata": {},
   "outputs": [],
   "source": [
    "df_all = list()\n",
    "for fl in other_pdb_pockets:\n",
    "    matches = re.search('.*/CAMK_PLK1_HUMAN_(.*)_pdbNum/.*', fl)\n",
    "    if matches:\n",
    "        pdb_code = matches.groups()[0]\n",
    "        if pdb_code:\n",
    "            df = pd.read_csv(fl)\n",
    "            df['pdb'] = pdb_code\n",
    "            df_all.append(df)"
   ]
  },
  {
   "cell_type": "code",
   "execution_count": 91,
   "id": "35b8f6b8",
   "metadata": {},
   "outputs": [],
   "source": [
    "df_pockets_other_pdb = pd.concat(df_all)"
   ]
  },
  {
   "cell_type": "code",
   "execution_count": 92,
   "id": "2b6f6f7f",
   "metadata": {},
   "outputs": [
    {
     "data": {
      "text/plain": [
       "Index(['name     ', '  rank', '   score', ' probability', ' sas_points',\n",
       "       ' surf_atoms', '   center_x', '   center_y', '   center_z',\n",
       "       ' residue_ids', ' surf_atom_ids', 'pdb'],\n",
       "      dtype='object')"
      ]
     },
     "execution_count": 92,
     "metadata": {},
     "output_type": "execute_result"
    }
   ],
   "source": [
    "df_pockets_other_pdb.columns"
   ]
  },
  {
   "cell_type": "code",
   "execution_count": 100,
   "id": "b0088072",
   "metadata": {},
   "outputs": [
    {
     "name": "stderr",
     "output_type": "stream",
     "text": [
      "13it [00:00, 598.43it/s]\n"
     ]
    }
   ],
   "source": [
    "for (id, row) in tqdm.tqdm(df_cluster_reps.iterrows()):\n",
    "    pocket_res = row['residues'].split(\" \")\n",
    "    for (id2, row2) in df_pockets_other_pdb.iterrows():\n",
    "        other_pdb_pocket_res = row2[' residue_ids'].split(\" \")\n",
    "\n",
    "        matches = set(pocket_res) & set(other_pdb_pocket_res)\n",
    "        percent_cluster_rep = len(matches) / len(pocket_res) * 100\n",
    "        percent_other_pdb_pocket = len(matches) / len(other_pdb_pocket_res) * 100\n",
    "\n",
    "        percent_union = len(matches) / len(set(pocket_res) | set(other_pdb_pocket_res)) * 100\n",
    "        if (percent_union > 70) or (percent_cluster_rep) > 70:\n",
    "            print(f\"Percentage of matches between cluster representatives and other PDB pockets:\")\n",
    "            print(f\"Pocket {row['Frame']} and Pocket {row2['pdb']}:\")\n",
    "            print(f\"  - {percent_cluster_rep:.2f}% of cluster representative residues\")\n",
    "            print(f\"  - {percent_other_pdb_pocket:.2f}% of other PDB pocket residues\")\n",
    "            print(f\"  - {percent_union:.2f}% union of residues\")"
   ]
  },
  {
   "cell_type": "code",
   "execution_count": 63,
   "id": "a161ca96",
   "metadata": {},
   "outputs": [
    {
     "data": {
      "text/plain": [
       "['',\n",
       " 'A_139',\n",
       " 'A_142',\n",
       " 'A_178',\n",
       " 'A_179',\n",
       " 'A_180',\n",
       " 'A_216',\n",
       " 'A_217',\n",
       " 'A_243',\n",
       " 'A_249']"
      ]
     },
     "execution_count": 63,
     "metadata": {},
     "output_type": "execute_result"
    }
   ],
   "source": [
    "other_pdb_pocket_res"
   ]
  },
  {
   "cell_type": "code",
   "execution_count": 101,
   "id": "8d7f4133",
   "metadata": {},
   "outputs": [
    {
     "name": "stdout",
     "output_type": "stream",
     "text": [
      "Percentage of matches between cluster representatives and other PDB pockets:\n",
      "Pocket from cluster -1 and a pocket from 2OU7:\n",
      "  - 80.00% of pocket residues\n",
      "  - 17.39% of other PDB pocket residues\n",
      "  - 16.67% union of residues\n",
      "Percentage of matches between cluster representatives and other PDB pockets:\n",
      "Pocket from cluster -1 and a pocket from 4J53:\n",
      "  - 80.00% of pocket residues\n",
      "  - 16.00% of other PDB pocket residues\n",
      "  - 15.38% union of residues\n",
      "Percentage of matches between cluster representatives and other PDB pockets:\n",
      "Pocket from cluster -1 and a pocket from 5TA6:\n",
      "  - 80.00% of pocket residues\n",
      "  - 16.00% of other PDB pocket residues\n",
      "  - 15.38% union of residues\n",
      "Percentage of matches between cluster representatives and other PDB pockets:\n",
      "Pocket from cluster -1 and a pocket from 8BJT:\n",
      "  - 80.00% of pocket residues\n",
      "  - 16.00% of other PDB pocket residues\n",
      "  - 15.38% union of residues\n",
      "Percentage of matches between cluster representatives and other PDB pockets:\n",
      "Pocket from cluster -1 and a pocket from 8X72:\n",
      "  - 80.00% of pocket residues\n",
      "  - 19.05% of other PDB pocket residues\n",
      "  - 18.18% union of residues\n"
     ]
    }
   ],
   "source": [
    "for (id, row) in df_pockets.iterrows():\n",
    "    pocket_res = row['residues'].split(\" \")\n",
    "    for (id2, row2) in df_pockets_other_pdb.iterrows():\n",
    "        other_pdb_pocket_res = row2[' residue_ids'].split(\" \")\n",
    "\n",
    "        matches = set(pocket_res) & set(other_pdb_pocket_res)\n",
    "        percent_pocket = len(matches) / len(pocket_res) * 100\n",
    "        percent_other_pdb_pocket = len(matches) / len(other_pdb_pocket_res) * 100\n",
    "\n",
    "        percent_union = len(matches) / len(set(pocket_res) | set(other_pdb_pocket_res)) * 100\n",
    "\n",
    "        if (percent_union > 70) or (percent_pocket > 70):\n",
    "            print(f\"Percentage of matches between cluster representatives and other PDB pockets:\")\n",
    "            print(f\"Pocket from cluster {row['cluster']} and a pocket from {row2['pdb']}:\")\n",
    "            print(f\"  - {percent_pocket:.2f}% of pocket residues\")\n",
    "            print(f\"  - {percent_other_pdb_pocket:.2f}% of other PDB pocket residues\")\n",
    "            print(f\"  - {percent_union:.2f}% union of residues\")"
   ]
  },
  {
   "cell_type": "code",
   "execution_count": null,
   "id": "b217de1e",
   "metadata": {},
   "outputs": [],
   "source": []
  }
 ],
 "metadata": {
  "kernelspec": {
   "display_name": "pockethunter",
   "language": "python",
   "name": "python3"
  },
  "language_info": {
   "codemirror_mode": {
    "name": "ipython",
    "version": 3
   },
   "file_extension": ".py",
   "mimetype": "text/x-python",
   "name": "python",
   "nbconvert_exporter": "python",
   "pygments_lexer": "ipython3",
   "version": "3.12.0"
  }
 },
 "nbformat": 4,
 "nbformat_minor": 5
}
